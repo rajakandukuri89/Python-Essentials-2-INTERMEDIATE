{
  "nbformat": 4,
  "nbformat_minor": 0,
  "metadata": {
    "colab": {
      "name": "PCAP - Programming Essentials In Python English 0422a part2_module2.ipynb",
      "provenance": [],
      "collapsed_sections": [],
      "authorship_tag": "ABX9TyNnBvX3W72DMX70KC0sIQhV",
      "include_colab_link": true
    },
    "kernelspec": {
      "name": "python3",
      "display_name": "Python 3"
    },
    "language_info": {
      "name": "python"
    }
  },
  "cells": [
    {
      "cell_type": "markdown",
      "metadata": {
        "id": "view-in-github",
        "colab_type": "text"
      },
      "source": [
        "<a href=\"https://colab.research.google.com/github/rajakandukuri89/Python-Essentials-2-INTERMEDIATE/blob/main/PCAP_Programming_Essentials_In_Python_English_0422a_part2_module2.ipynb\" target=\"_parent\"><img src=\"https://colab.research.google.com/assets/colab-badge.svg\" alt=\"Open In Colab\"/></a>"
      ]
    },
    {
      "cell_type": "markdown",
      "source": [
        "Scenario\n",
        "You already know how split() works. Now we want you to prove it.\n",
        "\n",
        "Your task is to write your own function, which behaves almost exactly like the original split() method, i.e.:\n",
        "\n",
        "it should accept exactly one argument - a string;\n",
        "it should return a list of words created from the string, divided in the places where the string contains whitespaces;\n",
        "if the string is empty, the function should return an empty list;\n",
        "its name should be mysplit()\n",
        "Use the template in the editor. Test your code carefully."
      ],
      "metadata": {
        "id": "h9wwRRHd9lU3"
      }
    },
    {
      "cell_type": "code",
      "source": [
        "def mysplit(string):\n",
        "    string = string.strip()\n",
        "    if string == \"\":\n",
        "       return list()\n",
        "    \n",
        "    out = list()\n",
        "    st=\"\"\n",
        "    \n",
        "    \n",
        "    string = string + \" \"\n",
        "    for ch in string:\n",
        "        if ord(ch) != 32:\n",
        "            st += ch\n",
        "        else:\n",
        "            out.append(st)\n",
        "            st=\"\"\n",
        "    return out    \n",
        "    \n",
        "\n",
        "\n",
        "print(mysplit(\"To be or not to be, that is the question\"))\n",
        "print(mysplit(\"To be or not to be,that is the question\"))\n",
        "print(mysplit(\"   \"))\n",
        "print(mysplit(\" abc \"))\n",
        "print(mysplit(\"\"))\n"
      ],
      "metadata": {
        "colab": {
          "base_uri": "https://localhost:8080/"
        },
        "id": "u_z3mq1z9k6M",
        "outputId": "09e554ef-84c9-4a93-84e6-18ee041aa775"
      },
      "execution_count": null,
      "outputs": [
        {
          "output_type": "stream",
          "name": "stdout",
          "text": [
            "['To', 'be', 'or', 'not', 'to', 'be,', 'that', 'is', 'the', 'question']\n",
            "['To', 'be', 'or', 'not', 'to', 'be,that', 'is', 'the', 'question']\n",
            "[]\n",
            "['abc']\n",
            "[]\n"
          ]
        }
      ]
    },
    {
      "cell_type": "markdown",
      "source": [
        "Scenario\n",
        "You are already familiar with the Caesar cipher, and this is why we want you to improve the code we showed you recently.\n",
        "\n",
        "The original Caesar cipher shifts each character by one: a becomes b, z becomes a, and so on. Let's make it a bit harder, and allow the shifted value to come from the range 1..25 inclusive.\n",
        "\n",
        "Moreover, let the code preserve the letters' case (lower-case letters will remain lower-case) and all non-alphabetical characters should remain untouched.\n",
        "\n",
        "Your task is to write a program which:\n",
        "\n",
        "asks the user for one line of text to encrypt;\n",
        "asks the user for a shift value (an integer number from the range 1..25 - note: you should force the user to enter a valid shift value (don't give up and don't let bad data fool you!)\n",
        "prints out the encoded text.\n",
        "Test your code using the data we've provided."
      ],
      "metadata": {
        "id": "ECXlyOWzWlHn"
      }
    },
    {
      "cell_type": "code",
      "source": [
        "text = input(\"enter the text to encrypt: \")\n",
        "shftval = int(input(\"enter the shift value between 1 to 25: \"))\n",
        "\n",
        "if shftval <1 or shftval>25:\n",
        "    print(\"you have enter a shift value not in the range of 1 to 25 \\n please enter the correct value\")\n",
        "    exit()\n",
        "\n",
        "entext = \"\"\n",
        "for ch in text:\n",
        "    if ord(ch)>=65 and ord(ch)<=90:\n",
        "        if ord(ch)+shftval>90:\n",
        "            entext+=chr(ord(ch)+shftval-26)\n",
        "            #print(1, ord(ch))\n",
        "        else:\n",
        "            entext+=chr(ord(ch)+shftval)\n",
        "            #print(2)\n",
        "    elif ord(ch)>=97 and ord(ch)<=122:\n",
        "        if ord(ch)+shftval>122:\n",
        "            entext+=chr(ord(ch)+shftval-26)\n",
        "            #print(3)\n",
        "        else:\n",
        "            entext+=chr(ord(ch)+shftval)\n",
        "            #print(4)\n",
        "    else:\n",
        "        entext+=ch\n",
        "        #print(5)\n",
        "print(entext)"
      ],
      "metadata": {
        "id": "ItJq_YxoWkwD"
      },
      "execution_count": null,
      "outputs": []
    },
    {
      "cell_type": "markdown",
      "source": [
        "Scenario\n",
        "Do you know what a palindrome is?\n",
        "\n",
        "It's a word which look the same when read forward and backward. For example, \"kayak\" is a palindrome, while \"loyal\" is not.\n",
        "\n",
        "Your task is to write a program which:\n",
        "\n",
        "asks the user for some text;\n",
        "checks whether the entered text is a palindrome, and prints result.\n",
        "Note:\n",
        "\n",
        "assume that an empty string isn't a palindrome;\n",
        "treat upper- and lower-case letters as equal;\n",
        "spaces are not taken into account during the check - treat them as non-existent;\n",
        "there are more than a few correct solutions - try to find more than one.\n",
        "Test your code using the data we've provided."
      ],
      "metadata": {
        "id": "O4KEP0occ2Iv"
      }
    },
    {
      "cell_type": "code",
      "source": [
        "text = input(\"enter your text to check: \")\n",
        "\n",
        "if text.strip()==\"\":\n",
        "    print(\"It's not a palindrome\")\n",
        "else:\n",
        "    ls = \"\"\n",
        "    text = text.lower()\n",
        "    \n",
        "    for ch in text:\n",
        "        if ord(ch)!=32:\n",
        "            ls+=ch\n",
        "    \n",
        "    if ls == ls[::-1]:\n",
        "        print(\"It's a palindrome\")\n",
        "    else:\n",
        "        print(\"It's not a palindrome\")"
      ],
      "metadata": {
        "id": "pjmxLNnMc2Xi"
      },
      "execution_count": null,
      "outputs": []
    },
    {
      "cell_type": "markdown",
      "source": [
        "Scenario\n",
        "An anagram is a new word formed by rearranging the letters of a word, using all the original letters exactly once. For example, the phrases \"rail safety\" and \"fairy tales\" are anagrams, while \"I am\" and \"You are\" are not.\n",
        "\n",
        "Your task is to write a program which:\n",
        "\n",
        "asks the user for two separate texts;\n",
        "checks whether, the entered texts are anagrams and prints the result.\n",
        "Note:\n",
        "\n",
        "assume that two empty strings are not anagrams;\n",
        "treat upper- and lower-case letters as equal;\n",
        "spaces are not taken into account during the check - treat them as non-existent\n",
        "Test your code using the data we've provided."
      ],
      "metadata": {
        "id": "5QglBjBJjoL8"
      }
    },
    {
      "cell_type": "code",
      "source": [
        "str_1 = input(\"Enter the first string: \")\n",
        "str_2 = input(\"Enter the second string: \")\n",
        "\n",
        "\n",
        "def convt(str_0):\n",
        "    return \"\".join(sorted(list((str_0.replace(\" \",\"\")).upper())))\n",
        "    \n",
        "    \n",
        "if len(convt(str_1))>1 and convt(str_1) == convt(str_2):\n",
        "    print(\"Anagrams\")\n",
        "else:\n",
        "    print(\"Not anagrams\")\n",
        "#print(convt(str_1),convt(str_2))"
      ],
      "metadata": {
        "colab": {
          "base_uri": "https://localhost:8080/"
        },
        "id": "BYnqOT7BjCgC",
        "outputId": "ae628443-e81e-4d79-aa21-b99aab7da1b9"
      },
      "execution_count": 2,
      "outputs": [
        {
          "output_type": "stream",
          "name": "stdout",
          "text": [
            "Enter the first string: man\n",
            "Enter the second string: d\n",
            "Not anagrams\n"
          ]
        }
      ]
    }
  ]
}