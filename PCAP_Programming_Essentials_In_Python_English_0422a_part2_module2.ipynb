{
  "nbformat": 4,
  "nbformat_minor": 0,
  "metadata": {
    "colab": {
      "name": "PCAP - Programming Essentials In Python English 0422a part2_module2.ipynb",
      "provenance": [],
      "authorship_tag": "ABX9TyNl9u0XO1pnIyKtO1Rbsch4",
      "include_colab_link": true
    },
    "kernelspec": {
      "name": "python3",
      "display_name": "Python 3"
    },
    "language_info": {
      "name": "python"
    }
  },
  "cells": [
    {
      "cell_type": "markdown",
      "metadata": {
        "id": "view-in-github",
        "colab_type": "text"
      },
      "source": [
        "<a href=\"https://colab.research.google.com/github/rajakandukuri89/Python-Essentials-2-INTERMEDIATE/blob/main/PCAP_Programming_Essentials_In_Python_English_0422a_part2_module2.ipynb\" target=\"_parent\"><img src=\"https://colab.research.google.com/assets/colab-badge.svg\" alt=\"Open In Colab\"/></a>"
      ]
    },
    {
      "cell_type": "markdown",
      "source": [
        "Scenario\n",
        "You already know how split() works. Now we want you to prove it.\n",
        "\n",
        "Your task is to write your own function, which behaves almost exactly like the original split() method, i.e.:\n",
        "\n",
        "it should accept exactly one argument - a string;\n",
        "it should return a list of words created from the string, divided in the places where the string contains whitespaces;\n",
        "if the string is empty, the function should return an empty list;\n",
        "its name should be mysplit()\n",
        "Use the template in the editor. Test your code carefully."
      ],
      "metadata": {
        "id": "h9wwRRHd9lU3"
      }
    },
    {
      "cell_type": "code",
      "source": [
        "def mysplit(string):\n",
        "    string = string.strip()\n",
        "    if string == \"\":\n",
        "       return list()\n",
        "    \n",
        "    out = list()\n",
        "    st=\"\"\n",
        "    \n",
        "    \n",
        "    string = string + \" \"\n",
        "    for ch in string:\n",
        "        if ord(ch) != 32:\n",
        "            st += ch\n",
        "        else:\n",
        "            out.append(st)\n",
        "            st=\"\"\n",
        "    return out    \n",
        "    \n",
        "\n",
        "\n",
        "print(mysplit(\"To be or not to be, that is the question\"))\n",
        "print(mysplit(\"To be or not to be,that is the question\"))\n",
        "print(mysplit(\"   \"))\n",
        "print(mysplit(\" abc \"))\n",
        "print(mysplit(\"\"))\n"
      ],
      "metadata": {
        "colab": {
          "base_uri": "https://localhost:8080/"
        },
        "id": "u_z3mq1z9k6M",
        "outputId": "09e554ef-84c9-4a93-84e6-18ee041aa775"
      },
      "execution_count": 1,
      "outputs": [
        {
          "output_type": "stream",
          "name": "stdout",
          "text": [
            "['To', 'be', 'or', 'not', 'to', 'be,', 'that', 'is', 'the', 'question']\n",
            "['To', 'be', 'or', 'not', 'to', 'be,that', 'is', 'the', 'question']\n",
            "[]\n",
            "['abc']\n",
            "[]\n"
          ]
        }
      ]
    }
  ]
}